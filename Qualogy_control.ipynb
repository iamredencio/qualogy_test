{
  "nbformat": 4,
  "nbformat_minor": 0,
  "metadata": {
    "colab": {
      "name": "Qualogy-control.ipynb",
      "provenance": [],
      "collapsed_sections": [
        "M30XIkyuKFz-"
      ]
    },
    "kernelspec": {
      "name": "python3",
      "display_name": "Python 3"
    },
    "language_info": {
      "name": "python"
    }
  },
  "cells": [
    {
      "cell_type": "code",
      "source": [
        "from google.colab import drive\n",
        "drive.mount('/content/drive')"
      ],
      "metadata": {
        "colab": {
          "base_uri": "https://localhost:8080/"
        },
        "id": "WA_R8_bR6PgP",
        "outputId": "66257e29-0dfe-4093-d3a4-7bb9525840d2"
      },
      "execution_count": 2,
      "outputs": [
        {
          "output_type": "stream",
          "name": "stdout",
          "text": [
            "Mounted at /content/drive\n"
          ]
        }
      ]
    },
    {
      "cell_type": "code",
      "source": [
        "from sklearn.preprocessing import MinMaxScaler\n",
        "from sklearn.model_selection import train_test_split\n",
        "\n",
        "from sklearn.linear_model import LogisticRegression\n",
        "from sklearn.ensemble import RandomForestClassifier\n",
        "from sklearn.svm import SVC\n",
        "\n",
        "import pandas as pd \n",
        "import numpy as np\n",
        "\n",
        "from pandas.core.reshape.reshape import get_dummies\n",
        "\n",
        "print('Libraries imported')"
      ],
      "metadata": {
        "colab": {
          "base_uri": "https://localhost:8080/"
        },
        "id": "JL2js4yqLifO",
        "outputId": "ed00612e-4150-4ce5-e0a2-2704e9babce0"
      },
      "execution_count": 3,
      "outputs": [
        {
          "output_type": "stream",
          "name": "stdout",
          "text": [
            "Libraries imported\n"
          ]
        }
      ]
    },
    {
      "cell_type": "markdown",
      "source": [
        "#Open data"
      ],
      "metadata": {
        "id": "c2s7oLRl-zkh"
      }
    },
    {
      "cell_type": "code",
      "source": [
        "data_proc = pd.read_csv(\"/content/drive/MyDrive/Colab Notebooks/colabdata/train_data.csv\", index_col=0)\n",
        "# data_proc\n",
        "# Open file in notepad, to eliminate error 0x83 utf\n",
        "test_data = pd.read_csv(\"/content/drive/MyDrive/Colab Notebooks/colabdata/TestDataAccomodation.csv\", encoding=\"utf-8\", index_col=0)\n",
        "test_data = pd.DataFrame(test_data, columns = data_proc.columns[:-1]) \n",
        "test_data"
      ],
      "metadata": {
        "id": "uexKPVhjWBqk",
        "colab": {
          "base_uri": "https://localhost:8080/",
          "height": 455
        },
        "outputId": "d0c2616c-0cac-40c1-94d3-109b41f55218"
      },
      "execution_count": 4,
      "outputs": [
        {
          "output_type": "execute_result",
          "data": {
            "text/plain": [
              "         durationOfStay gender   Age  kids destinationCode\n",
              "id                                                        \n",
              "1013319               2      F  38.0   0.0              BE\n",
              "1009485               6      M  37.0   0.0              ES\n",
              "1002725               1      M  37.0   1.0              ES\n",
              "1001133               5      F  50.0   0.0              UK\n",
              "1000794               4      F  42.0   1.0              DK\n",
              "...                 ...    ...   ...   ...             ...\n",
              "1007285               3      M   NaN   0.0              ES\n",
              "1009715               4      F  35.0   NaN              NL\n",
              "1012538               7      F   NaN   1.0              FI\n",
              "1000615               4      M  48.0   0.0              UK\n",
              "1007461               2      M  41.0   1.0              UK\n",
              "\n",
              "[4229 rows x 5 columns]"
            ],
            "text/html": [
              "\n",
              "  <div id=\"df-6248a595-954a-4849-9904-031aad9b920a\">\n",
              "    <div class=\"colab-df-container\">\n",
              "      <div>\n",
              "<style scoped>\n",
              "    .dataframe tbody tr th:only-of-type {\n",
              "        vertical-align: middle;\n",
              "    }\n",
              "\n",
              "    .dataframe tbody tr th {\n",
              "        vertical-align: top;\n",
              "    }\n",
              "\n",
              "    .dataframe thead th {\n",
              "        text-align: right;\n",
              "    }\n",
              "</style>\n",
              "<table border=\"1\" class=\"dataframe\">\n",
              "  <thead>\n",
              "    <tr style=\"text-align: right;\">\n",
              "      <th></th>\n",
              "      <th>durationOfStay</th>\n",
              "      <th>gender</th>\n",
              "      <th>Age</th>\n",
              "      <th>kids</th>\n",
              "      <th>destinationCode</th>\n",
              "    </tr>\n",
              "    <tr>\n",
              "      <th>id</th>\n",
              "      <th></th>\n",
              "      <th></th>\n",
              "      <th></th>\n",
              "      <th></th>\n",
              "      <th></th>\n",
              "    </tr>\n",
              "  </thead>\n",
              "  <tbody>\n",
              "    <tr>\n",
              "      <th>1013319</th>\n",
              "      <td>2</td>\n",
              "      <td>F</td>\n",
              "      <td>38.0</td>\n",
              "      <td>0.0</td>\n",
              "      <td>BE</td>\n",
              "    </tr>\n",
              "    <tr>\n",
              "      <th>1009485</th>\n",
              "      <td>6</td>\n",
              "      <td>M</td>\n",
              "      <td>37.0</td>\n",
              "      <td>0.0</td>\n",
              "      <td>ES</td>\n",
              "    </tr>\n",
              "    <tr>\n",
              "      <th>1002725</th>\n",
              "      <td>1</td>\n",
              "      <td>M</td>\n",
              "      <td>37.0</td>\n",
              "      <td>1.0</td>\n",
              "      <td>ES</td>\n",
              "    </tr>\n",
              "    <tr>\n",
              "      <th>1001133</th>\n",
              "      <td>5</td>\n",
              "      <td>F</td>\n",
              "      <td>50.0</td>\n",
              "      <td>0.0</td>\n",
              "      <td>UK</td>\n",
              "    </tr>\n",
              "    <tr>\n",
              "      <th>1000794</th>\n",
              "      <td>4</td>\n",
              "      <td>F</td>\n",
              "      <td>42.0</td>\n",
              "      <td>1.0</td>\n",
              "      <td>DK</td>\n",
              "    </tr>\n",
              "    <tr>\n",
              "      <th>...</th>\n",
              "      <td>...</td>\n",
              "      <td>...</td>\n",
              "      <td>...</td>\n",
              "      <td>...</td>\n",
              "      <td>...</td>\n",
              "    </tr>\n",
              "    <tr>\n",
              "      <th>1007285</th>\n",
              "      <td>3</td>\n",
              "      <td>M</td>\n",
              "      <td>NaN</td>\n",
              "      <td>0.0</td>\n",
              "      <td>ES</td>\n",
              "    </tr>\n",
              "    <tr>\n",
              "      <th>1009715</th>\n",
              "      <td>4</td>\n",
              "      <td>F</td>\n",
              "      <td>35.0</td>\n",
              "      <td>NaN</td>\n",
              "      <td>NL</td>\n",
              "    </tr>\n",
              "    <tr>\n",
              "      <th>1012538</th>\n",
              "      <td>7</td>\n",
              "      <td>F</td>\n",
              "      <td>NaN</td>\n",
              "      <td>1.0</td>\n",
              "      <td>FI</td>\n",
              "    </tr>\n",
              "    <tr>\n",
              "      <th>1000615</th>\n",
              "      <td>4</td>\n",
              "      <td>M</td>\n",
              "      <td>48.0</td>\n",
              "      <td>0.0</td>\n",
              "      <td>UK</td>\n",
              "    </tr>\n",
              "    <tr>\n",
              "      <th>1007461</th>\n",
              "      <td>2</td>\n",
              "      <td>M</td>\n",
              "      <td>41.0</td>\n",
              "      <td>1.0</td>\n",
              "      <td>UK</td>\n",
              "    </tr>\n",
              "  </tbody>\n",
              "</table>\n",
              "<p>4229 rows × 5 columns</p>\n",
              "</div>\n",
              "      <button class=\"colab-df-convert\" onclick=\"convertToInteractive('df-6248a595-954a-4849-9904-031aad9b920a')\"\n",
              "              title=\"Convert this dataframe to an interactive table.\"\n",
              "              style=\"display:none;\">\n",
              "        \n",
              "  <svg xmlns=\"http://www.w3.org/2000/svg\" height=\"24px\"viewBox=\"0 0 24 24\"\n",
              "       width=\"24px\">\n",
              "    <path d=\"M0 0h24v24H0V0z\" fill=\"none\"/>\n",
              "    <path d=\"M18.56 5.44l.94 2.06.94-2.06 2.06-.94-2.06-.94-.94-2.06-.94 2.06-2.06.94zm-11 1L8.5 8.5l.94-2.06 2.06-.94-2.06-.94L8.5 2.5l-.94 2.06-2.06.94zm10 10l.94 2.06.94-2.06 2.06-.94-2.06-.94-.94-2.06-.94 2.06-2.06.94z\"/><path d=\"M17.41 7.96l-1.37-1.37c-.4-.4-.92-.59-1.43-.59-.52 0-1.04.2-1.43.59L10.3 9.45l-7.72 7.72c-.78.78-.78 2.05 0 2.83L4 21.41c.39.39.9.59 1.41.59.51 0 1.02-.2 1.41-.59l7.78-7.78 2.81-2.81c.8-.78.8-2.07 0-2.86zM5.41 20L4 18.59l7.72-7.72 1.47 1.35L5.41 20z\"/>\n",
              "  </svg>\n",
              "      </button>\n",
              "      \n",
              "  <style>\n",
              "    .colab-df-container {\n",
              "      display:flex;\n",
              "      flex-wrap:wrap;\n",
              "      gap: 12px;\n",
              "    }\n",
              "\n",
              "    .colab-df-convert {\n",
              "      background-color: #E8F0FE;\n",
              "      border: none;\n",
              "      border-radius: 50%;\n",
              "      cursor: pointer;\n",
              "      display: none;\n",
              "      fill: #1967D2;\n",
              "      height: 32px;\n",
              "      padding: 0 0 0 0;\n",
              "      width: 32px;\n",
              "    }\n",
              "\n",
              "    .colab-df-convert:hover {\n",
              "      background-color: #E2EBFA;\n",
              "      box-shadow: 0px 1px 2px rgba(60, 64, 67, 0.3), 0px 1px 3px 1px rgba(60, 64, 67, 0.15);\n",
              "      fill: #174EA6;\n",
              "    }\n",
              "\n",
              "    [theme=dark] .colab-df-convert {\n",
              "      background-color: #3B4455;\n",
              "      fill: #D2E3FC;\n",
              "    }\n",
              "\n",
              "    [theme=dark] .colab-df-convert:hover {\n",
              "      background-color: #434B5C;\n",
              "      box-shadow: 0px 1px 3px 1px rgba(0, 0, 0, 0.15);\n",
              "      filter: drop-shadow(0px 1px 2px rgba(0, 0, 0, 0.3));\n",
              "      fill: #FFFFFF;\n",
              "    }\n",
              "  </style>\n",
              "\n",
              "      <script>\n",
              "        const buttonEl =\n",
              "          document.querySelector('#df-6248a595-954a-4849-9904-031aad9b920a button.colab-df-convert');\n",
              "        buttonEl.style.display =\n",
              "          google.colab.kernel.accessAllowed ? 'block' : 'none';\n",
              "\n",
              "        async function convertToInteractive(key) {\n",
              "          const element = document.querySelector('#df-6248a595-954a-4849-9904-031aad9b920a');\n",
              "          const dataTable =\n",
              "            await google.colab.kernel.invokeFunction('convertToInteractive',\n",
              "                                                     [key], {});\n",
              "          if (!dataTable) return;\n",
              "\n",
              "          const docLinkHtml = 'Like what you see? Visit the ' +\n",
              "            '<a target=\"_blank\" href=https://colab.research.google.com/notebooks/data_table.ipynb>data table notebook</a>'\n",
              "            + ' to learn more about interactive tables.';\n",
              "          element.innerHTML = '';\n",
              "          dataTable['output_type'] = 'display_data';\n",
              "          await google.colab.output.renderOutput(dataTable, element);\n",
              "          const docLink = document.createElement('div');\n",
              "          docLink.innerHTML = docLinkHtml;\n",
              "          element.appendChild(docLink);\n",
              "        }\n",
              "      </script>\n",
              "    </div>\n",
              "  </div>\n",
              "  "
            ]
          },
          "metadata": {},
          "execution_count": 4
        }
      ]
    },
    {
      "cell_type": "markdown",
      "source": [
        "#Analyze data\n",
        "## Half of the data is categorial other half is continuous"
      ],
      "metadata": {
        "id": "7HLoDccVrO_X"
      }
    },
    {
      "cell_type": "code",
      "source": [
        "data_proc.info()"
      ],
      "metadata": {
        "colab": {
          "base_uri": "https://localhost:8080/"
        },
        "id": "cL7lzLREUJVR",
        "outputId": "9935b46b-28e3-4451-f1bb-265b193c0e18"
      },
      "execution_count": 5,
      "outputs": [
        {
          "output_type": "stream",
          "name": "stdout",
          "text": [
            "<class 'pandas.core.frame.DataFrame'>\n",
            "Int64Index: 9868 entries, 1010286 to 1000340\n",
            "Data columns (total 6 columns):\n",
            " #   Column           Non-Null Count  Dtype  \n",
            "---  ------           --------------  -----  \n",
            " 0   durationOfStay   9868 non-null   int64  \n",
            " 1   gender           9868 non-null   object \n",
            " 2   Age              8874 non-null   float64\n",
            " 3   kids             8897 non-null   float64\n",
            " 4   destinationCode  8872 non-null   object \n",
            " 5   AcomType         9868 non-null   object \n",
            "dtypes: float64(2), int64(1), object(3)\n",
            "memory usage: 539.7+ KB\n"
          ]
        }
      ]
    },
    {
      "cell_type": "markdown",
      "source": [
        "#Fill in empty spaces\n",
        "## Sample randomly"
      ],
      "metadata": {
        "id": "jEEXezFBLN-O"
      }
    },
    {
      "cell_type": "code",
      "source": [
        "#Random Sampling missng values\n",
        "data_proc = data_proc.apply(lambda x: np.where(x.isnull(), x.dropna().sample(len(x), replace=True), x))\n",
        "#Random Sampling missng values\n",
        "test_data = test_data.apply(lambda x: np.where(x.isnull(), x.dropna().sample(len(x), replace=True), x))\n",
        "test_data"
      ],
      "metadata": {
        "id": "93vLJIxfdigV",
        "colab": {
          "base_uri": "https://localhost:8080/",
          "height": 455
        },
        "outputId": "cbb3769c-e099-4476-8274-611db77ba187"
      },
      "execution_count": 7,
      "outputs": [
        {
          "output_type": "execute_result",
          "data": {
            "text/plain": [
              "         durationOfStay gender   Age  kids destinationCode\n",
              "id                                                        \n",
              "1013319               2      F  38.0   0.0              BE\n",
              "1009485               6      M  37.0   0.0              ES\n",
              "1002725               1      M  37.0   1.0              ES\n",
              "1001133               5      F  50.0   0.0              UK\n",
              "1000794               4      F  42.0   1.0              DK\n",
              "...                 ...    ...   ...   ...             ...\n",
              "1007285               3      M  40.0   0.0              ES\n",
              "1009715               4      F  35.0   0.0              NL\n",
              "1012538               7      F  45.0   1.0              FI\n",
              "1000615               4      M  48.0   0.0              UK\n",
              "1007461               2      M  41.0   1.0              UK\n",
              "\n",
              "[4229 rows x 5 columns]"
            ],
            "text/html": [
              "\n",
              "  <div id=\"df-add96953-070d-43d1-9c92-febe559e308a\">\n",
              "    <div class=\"colab-df-container\">\n",
              "      <div>\n",
              "<style scoped>\n",
              "    .dataframe tbody tr th:only-of-type {\n",
              "        vertical-align: middle;\n",
              "    }\n",
              "\n",
              "    .dataframe tbody tr th {\n",
              "        vertical-align: top;\n",
              "    }\n",
              "\n",
              "    .dataframe thead th {\n",
              "        text-align: right;\n",
              "    }\n",
              "</style>\n",
              "<table border=\"1\" class=\"dataframe\">\n",
              "  <thead>\n",
              "    <tr style=\"text-align: right;\">\n",
              "      <th></th>\n",
              "      <th>durationOfStay</th>\n",
              "      <th>gender</th>\n",
              "      <th>Age</th>\n",
              "      <th>kids</th>\n",
              "      <th>destinationCode</th>\n",
              "    </tr>\n",
              "    <tr>\n",
              "      <th>id</th>\n",
              "      <th></th>\n",
              "      <th></th>\n",
              "      <th></th>\n",
              "      <th></th>\n",
              "      <th></th>\n",
              "    </tr>\n",
              "  </thead>\n",
              "  <tbody>\n",
              "    <tr>\n",
              "      <th>1013319</th>\n",
              "      <td>2</td>\n",
              "      <td>F</td>\n",
              "      <td>38.0</td>\n",
              "      <td>0.0</td>\n",
              "      <td>BE</td>\n",
              "    </tr>\n",
              "    <tr>\n",
              "      <th>1009485</th>\n",
              "      <td>6</td>\n",
              "      <td>M</td>\n",
              "      <td>37.0</td>\n",
              "      <td>0.0</td>\n",
              "      <td>ES</td>\n",
              "    </tr>\n",
              "    <tr>\n",
              "      <th>1002725</th>\n",
              "      <td>1</td>\n",
              "      <td>M</td>\n",
              "      <td>37.0</td>\n",
              "      <td>1.0</td>\n",
              "      <td>ES</td>\n",
              "    </tr>\n",
              "    <tr>\n",
              "      <th>1001133</th>\n",
              "      <td>5</td>\n",
              "      <td>F</td>\n",
              "      <td>50.0</td>\n",
              "      <td>0.0</td>\n",
              "      <td>UK</td>\n",
              "    </tr>\n",
              "    <tr>\n",
              "      <th>1000794</th>\n",
              "      <td>4</td>\n",
              "      <td>F</td>\n",
              "      <td>42.0</td>\n",
              "      <td>1.0</td>\n",
              "      <td>DK</td>\n",
              "    </tr>\n",
              "    <tr>\n",
              "      <th>...</th>\n",
              "      <td>...</td>\n",
              "      <td>...</td>\n",
              "      <td>...</td>\n",
              "      <td>...</td>\n",
              "      <td>...</td>\n",
              "    </tr>\n",
              "    <tr>\n",
              "      <th>1007285</th>\n",
              "      <td>3</td>\n",
              "      <td>M</td>\n",
              "      <td>40.0</td>\n",
              "      <td>0.0</td>\n",
              "      <td>ES</td>\n",
              "    </tr>\n",
              "    <tr>\n",
              "      <th>1009715</th>\n",
              "      <td>4</td>\n",
              "      <td>F</td>\n",
              "      <td>35.0</td>\n",
              "      <td>0.0</td>\n",
              "      <td>NL</td>\n",
              "    </tr>\n",
              "    <tr>\n",
              "      <th>1012538</th>\n",
              "      <td>7</td>\n",
              "      <td>F</td>\n",
              "      <td>45.0</td>\n",
              "      <td>1.0</td>\n",
              "      <td>FI</td>\n",
              "    </tr>\n",
              "    <tr>\n",
              "      <th>1000615</th>\n",
              "      <td>4</td>\n",
              "      <td>M</td>\n",
              "      <td>48.0</td>\n",
              "      <td>0.0</td>\n",
              "      <td>UK</td>\n",
              "    </tr>\n",
              "    <tr>\n",
              "      <th>1007461</th>\n",
              "      <td>2</td>\n",
              "      <td>M</td>\n",
              "      <td>41.0</td>\n",
              "      <td>1.0</td>\n",
              "      <td>UK</td>\n",
              "    </tr>\n",
              "  </tbody>\n",
              "</table>\n",
              "<p>4229 rows × 5 columns</p>\n",
              "</div>\n",
              "      <button class=\"colab-df-convert\" onclick=\"convertToInteractive('df-add96953-070d-43d1-9c92-febe559e308a')\"\n",
              "              title=\"Convert this dataframe to an interactive table.\"\n",
              "              style=\"display:none;\">\n",
              "        \n",
              "  <svg xmlns=\"http://www.w3.org/2000/svg\" height=\"24px\"viewBox=\"0 0 24 24\"\n",
              "       width=\"24px\">\n",
              "    <path d=\"M0 0h24v24H0V0z\" fill=\"none\"/>\n",
              "    <path d=\"M18.56 5.44l.94 2.06.94-2.06 2.06-.94-2.06-.94-.94-2.06-.94 2.06-2.06.94zm-11 1L8.5 8.5l.94-2.06 2.06-.94-2.06-.94L8.5 2.5l-.94 2.06-2.06.94zm10 10l.94 2.06.94-2.06 2.06-.94-2.06-.94-.94-2.06-.94 2.06-2.06.94z\"/><path d=\"M17.41 7.96l-1.37-1.37c-.4-.4-.92-.59-1.43-.59-.52 0-1.04.2-1.43.59L10.3 9.45l-7.72 7.72c-.78.78-.78 2.05 0 2.83L4 21.41c.39.39.9.59 1.41.59.51 0 1.02-.2 1.41-.59l7.78-7.78 2.81-2.81c.8-.78.8-2.07 0-2.86zM5.41 20L4 18.59l7.72-7.72 1.47 1.35L5.41 20z\"/>\n",
              "  </svg>\n",
              "      </button>\n",
              "      \n",
              "  <style>\n",
              "    .colab-df-container {\n",
              "      display:flex;\n",
              "      flex-wrap:wrap;\n",
              "      gap: 12px;\n",
              "    }\n",
              "\n",
              "    .colab-df-convert {\n",
              "      background-color: #E8F0FE;\n",
              "      border: none;\n",
              "      border-radius: 50%;\n",
              "      cursor: pointer;\n",
              "      display: none;\n",
              "      fill: #1967D2;\n",
              "      height: 32px;\n",
              "      padding: 0 0 0 0;\n",
              "      width: 32px;\n",
              "    }\n",
              "\n",
              "    .colab-df-convert:hover {\n",
              "      background-color: #E2EBFA;\n",
              "      box-shadow: 0px 1px 2px rgba(60, 64, 67, 0.3), 0px 1px 3px 1px rgba(60, 64, 67, 0.15);\n",
              "      fill: #174EA6;\n",
              "    }\n",
              "\n",
              "    [theme=dark] .colab-df-convert {\n",
              "      background-color: #3B4455;\n",
              "      fill: #D2E3FC;\n",
              "    }\n",
              "\n",
              "    [theme=dark] .colab-df-convert:hover {\n",
              "      background-color: #434B5C;\n",
              "      box-shadow: 0px 1px 3px 1px rgba(0, 0, 0, 0.15);\n",
              "      filter: drop-shadow(0px 1px 2px rgba(0, 0, 0, 0.3));\n",
              "      fill: #FFFFFF;\n",
              "    }\n",
              "  </style>\n",
              "\n",
              "      <script>\n",
              "        const buttonEl =\n",
              "          document.querySelector('#df-add96953-070d-43d1-9c92-febe559e308a button.colab-df-convert');\n",
              "        buttonEl.style.display =\n",
              "          google.colab.kernel.accessAllowed ? 'block' : 'none';\n",
              "\n",
              "        async function convertToInteractive(key) {\n",
              "          const element = document.querySelector('#df-add96953-070d-43d1-9c92-febe559e308a');\n",
              "          const dataTable =\n",
              "            await google.colab.kernel.invokeFunction('convertToInteractive',\n",
              "                                                     [key], {});\n",
              "          if (!dataTable) return;\n",
              "\n",
              "          const docLinkHtml = 'Like what you see? Visit the ' +\n",
              "            '<a target=\"_blank\" href=https://colab.research.google.com/notebooks/data_table.ipynb>data table notebook</a>'\n",
              "            + ' to learn more about interactive tables.';\n",
              "          element.innerHTML = '';\n",
              "          dataTable['output_type'] = 'display_data';\n",
              "          await google.colab.output.renderOutput(dataTable, element);\n",
              "          const docLink = document.createElement('div');\n",
              "          docLink.innerHTML = docLinkHtml;\n",
              "          element.appendChild(docLink);\n",
              "        }\n",
              "      </script>\n",
              "    </div>\n",
              "  </div>\n",
              "  "
            ]
          },
          "metadata": {},
          "execution_count": 7
        }
      ]
    },
    {
      "cell_type": "markdown",
      "source": [
        "#Split data into train, test and validation sets\n",
        "## prepare for cross validation to accommodate skewed data."
      ],
      "metadata": {
        "id": "_S4b5xZDrsXD"
      }
    },
    {
      "cell_type": "code",
      "source": [
        "data = pd.get_dummies(data_proc.drop('AcomType', axis=1))\n",
        "data[\"AcomType\"] = data_proc[\"AcomType\"]\n",
        "# data\n",
        "feature = data.drop('AcomType', axis=1)\n",
        "target = data['AcomType']\n",
        "\n",
        "X = feature.values\n",
        "y = target.values\n",
        "\n",
        "X_trainval, X_test, y_trainval, y_test = train_test_split(X, y, random_state=41)\n",
        "X_train, X_valid, y_train, y_valid = train_test_split(X_trainval, y_trainval, random_state=3)\n",
        "\n",
        "print(\"Training set{}\\nValidation set{}\\nTest set{}\".format(X_train.shape, X_valid.shape, X_test.shape))"
      ],
      "metadata": {
        "id": "TD85SZB6NEPc",
        "colab": {
          "base_uri": "https://localhost:8080/"
        },
        "outputId": "8bf303a0-f883-499e-a995-0dece2df5d3f"
      },
      "execution_count": 18,
      "outputs": [
        {
          "output_type": "stream",
          "name": "stdout",
          "text": [
            "Training set(5550, 13)\n",
            "Validation set(1851, 13)\n",
            "Test set(2467, 13)\n"
          ]
        }
      ]
    },
    {
      "cell_type": "code",
      "source": [
        "data"
      ],
      "metadata": {
        "colab": {
          "base_uri": "https://localhost:8080/",
          "height": 518
        },
        "id": "xb3EFqNutM0d",
        "outputId": "95a54931-83b9-4258-fbbd-6e705357afed"
      },
      "execution_count": 9,
      "outputs": [
        {
          "output_type": "execute_result",
          "data": {
            "text/plain": [
              "         durationOfStay   Age  kids  gender_F  gender_M  destinationCode_BE  \\\n",
              "Id                                                                            \n",
              "1010286               7  40.0   0.0         1         0                   0   \n",
              "1000152               5  36.0   0.0         0         1                   0   \n",
              "1009019               4  39.0   1.0         1         0                   0   \n",
              "1007840               5  45.0   0.0         1         0                   0   \n",
              "1006939               5  45.0   1.0         0         1                   0   \n",
              "...                 ...   ...   ...       ...       ...                 ...   \n",
              "1002141               2  42.0   0.0         1         0                   0   \n",
              "1009145               6  43.0   1.0         0         1                   0   \n",
              "1008594               4  39.0   0.0         0         1                   0   \n",
              "1007938               3  37.0   1.0         0         1                   0   \n",
              "1000340               3  49.0   1.0         1         0                   0   \n",
              "\n",
              "         destinationCode_DK  destinationCode_ES  destinationCode_FI  \\\n",
              "Id                                                                    \n",
              "1010286                   0                   0                   0   \n",
              "1000152                   0                   0                   0   \n",
              "1009019                   0                   1                   0   \n",
              "1007840                   0                   0                   0   \n",
              "1006939                   0                   0                   0   \n",
              "...                     ...                 ...                 ...   \n",
              "1002141                   0                   1                   0   \n",
              "1009145                   1                   0                   0   \n",
              "1008594                   0                   0                   0   \n",
              "1007938                   0                   0                   0   \n",
              "1000340                   0                   0                   0   \n",
              "\n",
              "         destinationCode_IT  destinationCode_NL  destinationCode_SE  \\\n",
              "Id                                                                    \n",
              "1010286                   0                   0                   1   \n",
              "1000152                   1                   0                   0   \n",
              "1009019                   0                   0                   0   \n",
              "1007840                   0                   1                   0   \n",
              "1006939                   0                   0                   0   \n",
              "...                     ...                 ...                 ...   \n",
              "1002141                   0                   0                   0   \n",
              "1009145                   0                   0                   0   \n",
              "1008594                   1                   0                   0   \n",
              "1007938                   1                   0                   0   \n",
              "1000340                   1                   0                   0   \n",
              "\n",
              "         destinationCode_UK AcomType  \n",
              "Id                                    \n",
              "1010286                   0      Apt  \n",
              "1000152                   0      Apt  \n",
              "1009019                   0    Hotel  \n",
              "1007840                   0    Hotel  \n",
              "1006939                   1    Hotel  \n",
              "...                     ...      ...  \n",
              "1002141                   0      Apt  \n",
              "1009145                   0      Apt  \n",
              "1008594                   0    Hotel  \n",
              "1007938                   0    Hotel  \n",
              "1000340                   0      Apt  \n",
              "\n",
              "[9868 rows x 14 columns]"
            ],
            "text/html": [
              "\n",
              "  <div id=\"df-4395f546-fc3a-4cca-b713-7afa8e4b9b20\">\n",
              "    <div class=\"colab-df-container\">\n",
              "      <div>\n",
              "<style scoped>\n",
              "    .dataframe tbody tr th:only-of-type {\n",
              "        vertical-align: middle;\n",
              "    }\n",
              "\n",
              "    .dataframe tbody tr th {\n",
              "        vertical-align: top;\n",
              "    }\n",
              "\n",
              "    .dataframe thead th {\n",
              "        text-align: right;\n",
              "    }\n",
              "</style>\n",
              "<table border=\"1\" class=\"dataframe\">\n",
              "  <thead>\n",
              "    <tr style=\"text-align: right;\">\n",
              "      <th></th>\n",
              "      <th>durationOfStay</th>\n",
              "      <th>Age</th>\n",
              "      <th>kids</th>\n",
              "      <th>gender_F</th>\n",
              "      <th>gender_M</th>\n",
              "      <th>destinationCode_BE</th>\n",
              "      <th>destinationCode_DK</th>\n",
              "      <th>destinationCode_ES</th>\n",
              "      <th>destinationCode_FI</th>\n",
              "      <th>destinationCode_IT</th>\n",
              "      <th>destinationCode_NL</th>\n",
              "      <th>destinationCode_SE</th>\n",
              "      <th>destinationCode_UK</th>\n",
              "      <th>AcomType</th>\n",
              "    </tr>\n",
              "    <tr>\n",
              "      <th>Id</th>\n",
              "      <th></th>\n",
              "      <th></th>\n",
              "      <th></th>\n",
              "      <th></th>\n",
              "      <th></th>\n",
              "      <th></th>\n",
              "      <th></th>\n",
              "      <th></th>\n",
              "      <th></th>\n",
              "      <th></th>\n",
              "      <th></th>\n",
              "      <th></th>\n",
              "      <th></th>\n",
              "      <th></th>\n",
              "    </tr>\n",
              "  </thead>\n",
              "  <tbody>\n",
              "    <tr>\n",
              "      <th>1010286</th>\n",
              "      <td>7</td>\n",
              "      <td>40.0</td>\n",
              "      <td>0.0</td>\n",
              "      <td>1</td>\n",
              "      <td>0</td>\n",
              "      <td>0</td>\n",
              "      <td>0</td>\n",
              "      <td>0</td>\n",
              "      <td>0</td>\n",
              "      <td>0</td>\n",
              "      <td>0</td>\n",
              "      <td>1</td>\n",
              "      <td>0</td>\n",
              "      <td>Apt</td>\n",
              "    </tr>\n",
              "    <tr>\n",
              "      <th>1000152</th>\n",
              "      <td>5</td>\n",
              "      <td>36.0</td>\n",
              "      <td>0.0</td>\n",
              "      <td>0</td>\n",
              "      <td>1</td>\n",
              "      <td>0</td>\n",
              "      <td>0</td>\n",
              "      <td>0</td>\n",
              "      <td>0</td>\n",
              "      <td>1</td>\n",
              "      <td>0</td>\n",
              "      <td>0</td>\n",
              "      <td>0</td>\n",
              "      <td>Apt</td>\n",
              "    </tr>\n",
              "    <tr>\n",
              "      <th>1009019</th>\n",
              "      <td>4</td>\n",
              "      <td>39.0</td>\n",
              "      <td>1.0</td>\n",
              "      <td>1</td>\n",
              "      <td>0</td>\n",
              "      <td>0</td>\n",
              "      <td>0</td>\n",
              "      <td>1</td>\n",
              "      <td>0</td>\n",
              "      <td>0</td>\n",
              "      <td>0</td>\n",
              "      <td>0</td>\n",
              "      <td>0</td>\n",
              "      <td>Hotel</td>\n",
              "    </tr>\n",
              "    <tr>\n",
              "      <th>1007840</th>\n",
              "      <td>5</td>\n",
              "      <td>45.0</td>\n",
              "      <td>0.0</td>\n",
              "      <td>1</td>\n",
              "      <td>0</td>\n",
              "      <td>0</td>\n",
              "      <td>0</td>\n",
              "      <td>0</td>\n",
              "      <td>0</td>\n",
              "      <td>0</td>\n",
              "      <td>1</td>\n",
              "      <td>0</td>\n",
              "      <td>0</td>\n",
              "      <td>Hotel</td>\n",
              "    </tr>\n",
              "    <tr>\n",
              "      <th>1006939</th>\n",
              "      <td>5</td>\n",
              "      <td>45.0</td>\n",
              "      <td>1.0</td>\n",
              "      <td>0</td>\n",
              "      <td>1</td>\n",
              "      <td>0</td>\n",
              "      <td>0</td>\n",
              "      <td>0</td>\n",
              "      <td>0</td>\n",
              "      <td>0</td>\n",
              "      <td>0</td>\n",
              "      <td>0</td>\n",
              "      <td>1</td>\n",
              "      <td>Hotel</td>\n",
              "    </tr>\n",
              "    <tr>\n",
              "      <th>...</th>\n",
              "      <td>...</td>\n",
              "      <td>...</td>\n",
              "      <td>...</td>\n",
              "      <td>...</td>\n",
              "      <td>...</td>\n",
              "      <td>...</td>\n",
              "      <td>...</td>\n",
              "      <td>...</td>\n",
              "      <td>...</td>\n",
              "      <td>...</td>\n",
              "      <td>...</td>\n",
              "      <td>...</td>\n",
              "      <td>...</td>\n",
              "      <td>...</td>\n",
              "    </tr>\n",
              "    <tr>\n",
              "      <th>1002141</th>\n",
              "      <td>2</td>\n",
              "      <td>42.0</td>\n",
              "      <td>0.0</td>\n",
              "      <td>1</td>\n",
              "      <td>0</td>\n",
              "      <td>0</td>\n",
              "      <td>0</td>\n",
              "      <td>1</td>\n",
              "      <td>0</td>\n",
              "      <td>0</td>\n",
              "      <td>0</td>\n",
              "      <td>0</td>\n",
              "      <td>0</td>\n",
              "      <td>Apt</td>\n",
              "    </tr>\n",
              "    <tr>\n",
              "      <th>1009145</th>\n",
              "      <td>6</td>\n",
              "      <td>43.0</td>\n",
              "      <td>1.0</td>\n",
              "      <td>0</td>\n",
              "      <td>1</td>\n",
              "      <td>0</td>\n",
              "      <td>1</td>\n",
              "      <td>0</td>\n",
              "      <td>0</td>\n",
              "      <td>0</td>\n",
              "      <td>0</td>\n",
              "      <td>0</td>\n",
              "      <td>0</td>\n",
              "      <td>Apt</td>\n",
              "    </tr>\n",
              "    <tr>\n",
              "      <th>1008594</th>\n",
              "      <td>4</td>\n",
              "      <td>39.0</td>\n",
              "      <td>0.0</td>\n",
              "      <td>0</td>\n",
              "      <td>1</td>\n",
              "      <td>0</td>\n",
              "      <td>0</td>\n",
              "      <td>0</td>\n",
              "      <td>0</td>\n",
              "      <td>1</td>\n",
              "      <td>0</td>\n",
              "      <td>0</td>\n",
              "      <td>0</td>\n",
              "      <td>Hotel</td>\n",
              "    </tr>\n",
              "    <tr>\n",
              "      <th>1007938</th>\n",
              "      <td>3</td>\n",
              "      <td>37.0</td>\n",
              "      <td>1.0</td>\n",
              "      <td>0</td>\n",
              "      <td>1</td>\n",
              "      <td>0</td>\n",
              "      <td>0</td>\n",
              "      <td>0</td>\n",
              "      <td>0</td>\n",
              "      <td>1</td>\n",
              "      <td>0</td>\n",
              "      <td>0</td>\n",
              "      <td>0</td>\n",
              "      <td>Hotel</td>\n",
              "    </tr>\n",
              "    <tr>\n",
              "      <th>1000340</th>\n",
              "      <td>3</td>\n",
              "      <td>49.0</td>\n",
              "      <td>1.0</td>\n",
              "      <td>1</td>\n",
              "      <td>0</td>\n",
              "      <td>0</td>\n",
              "      <td>0</td>\n",
              "      <td>0</td>\n",
              "      <td>0</td>\n",
              "      <td>1</td>\n",
              "      <td>0</td>\n",
              "      <td>0</td>\n",
              "      <td>0</td>\n",
              "      <td>Apt</td>\n",
              "    </tr>\n",
              "  </tbody>\n",
              "</table>\n",
              "<p>9868 rows × 14 columns</p>\n",
              "</div>\n",
              "      <button class=\"colab-df-convert\" onclick=\"convertToInteractive('df-4395f546-fc3a-4cca-b713-7afa8e4b9b20')\"\n",
              "              title=\"Convert this dataframe to an interactive table.\"\n",
              "              style=\"display:none;\">\n",
              "        \n",
              "  <svg xmlns=\"http://www.w3.org/2000/svg\" height=\"24px\"viewBox=\"0 0 24 24\"\n",
              "       width=\"24px\">\n",
              "    <path d=\"M0 0h24v24H0V0z\" fill=\"none\"/>\n",
              "    <path d=\"M18.56 5.44l.94 2.06.94-2.06 2.06-.94-2.06-.94-.94-2.06-.94 2.06-2.06.94zm-11 1L8.5 8.5l.94-2.06 2.06-.94-2.06-.94L8.5 2.5l-.94 2.06-2.06.94zm10 10l.94 2.06.94-2.06 2.06-.94-2.06-.94-.94-2.06-.94 2.06-2.06.94z\"/><path d=\"M17.41 7.96l-1.37-1.37c-.4-.4-.92-.59-1.43-.59-.52 0-1.04.2-1.43.59L10.3 9.45l-7.72 7.72c-.78.78-.78 2.05 0 2.83L4 21.41c.39.39.9.59 1.41.59.51 0 1.02-.2 1.41-.59l7.78-7.78 2.81-2.81c.8-.78.8-2.07 0-2.86zM5.41 20L4 18.59l7.72-7.72 1.47 1.35L5.41 20z\"/>\n",
              "  </svg>\n",
              "      </button>\n",
              "      \n",
              "  <style>\n",
              "    .colab-df-container {\n",
              "      display:flex;\n",
              "      flex-wrap:wrap;\n",
              "      gap: 12px;\n",
              "    }\n",
              "\n",
              "    .colab-df-convert {\n",
              "      background-color: #E8F0FE;\n",
              "      border: none;\n",
              "      border-radius: 50%;\n",
              "      cursor: pointer;\n",
              "      display: none;\n",
              "      fill: #1967D2;\n",
              "      height: 32px;\n",
              "      padding: 0 0 0 0;\n",
              "      width: 32px;\n",
              "    }\n",
              "\n",
              "    .colab-df-convert:hover {\n",
              "      background-color: #E2EBFA;\n",
              "      box-shadow: 0px 1px 2px rgba(60, 64, 67, 0.3), 0px 1px 3px 1px rgba(60, 64, 67, 0.15);\n",
              "      fill: #174EA6;\n",
              "    }\n",
              "\n",
              "    [theme=dark] .colab-df-convert {\n",
              "      background-color: #3B4455;\n",
              "      fill: #D2E3FC;\n",
              "    }\n",
              "\n",
              "    [theme=dark] .colab-df-convert:hover {\n",
              "      background-color: #434B5C;\n",
              "      box-shadow: 0px 1px 3px 1px rgba(0, 0, 0, 0.15);\n",
              "      filter: drop-shadow(0px 1px 2px rgba(0, 0, 0, 0.3));\n",
              "      fill: #FFFFFF;\n",
              "    }\n",
              "  </style>\n",
              "\n",
              "      <script>\n",
              "        const buttonEl =\n",
              "          document.querySelector('#df-4395f546-fc3a-4cca-b713-7afa8e4b9b20 button.colab-df-convert');\n",
              "        buttonEl.style.display =\n",
              "          google.colab.kernel.accessAllowed ? 'block' : 'none';\n",
              "\n",
              "        async function convertToInteractive(key) {\n",
              "          const element = document.querySelector('#df-4395f546-fc3a-4cca-b713-7afa8e4b9b20');\n",
              "          const dataTable =\n",
              "            await google.colab.kernel.invokeFunction('convertToInteractive',\n",
              "                                                     [key], {});\n",
              "          if (!dataTable) return;\n",
              "\n",
              "          const docLinkHtml = 'Like what you see? Visit the ' +\n",
              "            '<a target=\"_blank\" href=https://colab.research.google.com/notebooks/data_table.ipynb>data table notebook</a>'\n",
              "            + ' to learn more about interactive tables.';\n",
              "          element.innerHTML = '';\n",
              "          dataTable['output_type'] = 'display_data';\n",
              "          await google.colab.output.renderOutput(dataTable, element);\n",
              "          const docLink = document.createElement('div');\n",
              "          docLink.innerHTML = docLinkHtml;\n",
              "          element.appendChild(docLink);\n",
              "        }\n",
              "      </script>\n",
              "    </div>\n",
              "  </div>\n",
              "  "
            ]
          },
          "metadata": {},
          "execution_count": 9
        }
      ]
    },
    {
      "cell_type": "markdown",
      "source": [
        "# Standardize data"
      ],
      "metadata": {
        "id": "AZSVJfaArrmt"
      }
    },
    {
      "cell_type": "code",
      "source": [
        "scaler = MinMaxScaler()\n",
        "scaler.fit(X_trainval)\n",
        "\n",
        "X_trainval_scaled = scaler.transform(X_trainval)\n",
        "X_test_scaled = scaler.transform(X_test)\n",
        "X_train_scaled = scaler.transform(X_train)\n",
        "X_valid_scaled = scaler.transform(X_valid)"
      ],
      "metadata": {
        "id": "7Sxy0FdgPRUo"
      },
      "execution_count": 10,
      "outputs": []
    },
    {
      "cell_type": "code",
      "source": [
        "test_data = pd.get_dummies(test_data)\n",
        "\n",
        "scaler = MinMaxScaler()\n",
        "scaler.fit(test_data)\n",
        "\n",
        "test_data_scaled = scaler.transform(test_data)\n",
        "# test_data_scaled"
      ],
      "metadata": {
        "id": "4ucAkyMAtQi4"
      },
      "execution_count": 11,
      "outputs": []
    },
    {
      "cell_type": "markdown",
      "source": [
        "# Results"
      ],
      "metadata": {
        "id": "L6vmdJkQQZD-"
      }
    },
    {
      "cell_type": "code",
      "source": [
        "# ranfor = list(rf.predict(test_data_scaled))\n",
        "# logger = list(logreg.predict(test_data_scaled))\n",
        "# svcer = list(svc.predict(test_data_scaled))\n",
        "\n",
        "# res_df = pd.DataFrame({'RF': ranfor, 'LogReg': logger, 'SVC': svcer})\n",
        "# res_df[res_df.RF == res_df.SVC]"
      ],
      "metadata": {
        "id": "1PmSpc3sty_m"
      },
      "execution_count": null,
      "outputs": []
    },
    {
      "cell_type": "code",
      "source": [
        "# def get_results(best_score, best_parameters, train_score, test_score):\n",
        "#   print(\"Best score validation set {:.2f}: \".format(best_score))\n",
        "#   print(\"Best parameters: \", best_parameters)\n",
        "#   print(\"Train set with best parameters {:.2f}: \".format(train_score))\n",
        "#   print(\"Test set with best parameters {:.2f}: \".format(test_score))\n",
        "#   return"
      ],
      "metadata": {
        "id": "5_2o36B0XgUW"
      },
      "execution_count": null,
      "outputs": []
    },
    {
      "cell_type": "markdown",
      "source": [
        "#Support Vector Machine"
      ],
      "metadata": {
        "id": "gqhQCkIolb3V"
      }
    },
    {
      "cell_type": "code",
      "source": [
        "def cleanup_results(best_score, best_parameters, train_score, test_score):\n",
        "  return {'accuracy': [\"{:.2f}\".format(best_score)], \n",
        "          'best_parameters': best_parameters,\n",
        "          'train_score': [\"{:.2f}\".format(train_score)], \n",
        "          'test_score': [\"{:.2f}\".format(test_score)]}"
      ],
      "metadata": {
        "id": "0d_oIsMYB5-v"
      },
      "execution_count": 13,
      "outputs": []
    },
    {
      "cell_type": "code",
      "source": [
        "def support_vector_machine(X_train_scaled,  y_train, X_valid_scaled, y_valid, X_trainval_scaled,  y_trainval, X_test_scaled, y_test):\n",
        "    best_score = 0\n",
        "\n",
        "    for C in [0.0001, 0.001, 0.01, 0.1, 1, 10, 100]:\n",
        "      for gamma in [\"auto\", \"scale\"]:\n",
        "        for kernel in [\"linear\", \"poly\", \"rbf\", \"sigmoid\"]:\n",
        "          svc = SVC(kernel=kernel, C=C, gamma=gamma)\n",
        "          svc.fit(X_train_scaled,  y_train)\n",
        "          score = svc.score(X_valid_scaled, y_valid)\n",
        "\n",
        "          if score > best_score:\n",
        "            best_score = score\n",
        "            best_parameters = {\"C\":C,\n",
        "                              'gamma': gamma,\n",
        "                              'kernel': kernel}\n",
        "\n",
        "    svc = SVC(**best_parameters)\n",
        "    clf = svc.fit(X_trainval_scaled,  y_trainval)\n",
        "    train_score = svc.score(X_trainval_scaled,  y_trainval)\n",
        "    test_score = svc.score(X_test_scaled, y_test)\n",
        "\n",
        "    return clf, cleanup_results(best_score, best_parameters, train_score, test_score)\n",
        "\n",
        "clf, results = support_vector_machine(X_train_scaled,  y_train, X_valid_scaled, y_valid, X_trainval_scaled,  y_trainval, X_test_scaled, y_test)\n",
        "results"
      ],
      "metadata": {
        "id": "_0lLp1j6Jear",
        "colab": {
          "base_uri": "https://localhost:8080/"
        },
        "outputId": "58cd0a09-939c-4723-b33f-17f1c42ea98a"
      },
      "execution_count": 33,
      "outputs": [
        {
          "output_type": "execute_result",
          "data": {
            "text/plain": [
              "{'accuracy': ['0.75'],\n",
              " 'best_parameters': {'C': 100, 'gamma': 'scale', 'kernel': 'poly'},\n",
              " 'test_score': ['0.75'],\n",
              " 'train_score': ['0.76']}"
            ]
          },
          "metadata": {},
          "execution_count": 33
        }
      ]
    },
    {
      "cell_type": "code",
      "source": [
        "# # Imports\n",
        "# from sklearn.datasets import make_blobs\n",
        "\n",
        "# from sklearn.model_selection import train_test_split\n",
        "# import numpy as np\n",
        "# import matplotlib.pyplot as plt\n",
        "# from sklearn import svm\n",
        "# from sklearn.metrics import plot_confusion_matrix\n",
        "\n",
        "# # Configuration options\n",
        "# blobs_random_seed = 42\n",
        "# centers = [(0,0), (5,5)]\n",
        "# cluster_std = 1.5\n",
        "# frac_test_split = 0.33\n",
        "# num_features_for_samples = 2\n",
        "# num_samples_total = 1000\n",
        "\n",
        "# # Generate data\n",
        "# inputs, targets = make_blobs(n_samples = num_samples_total, centers = centers, n_features = num_features_for_samples, cluster_std = cluster_std)\n",
        "# X_train, X_test, y_train, y_test = train_test_split(inputs, targets, test_size=frac_test_split, random_state=blobs_random_seed)\n",
        "\n",
        "# # Save and load temporarily\n",
        "# np.save('./datasv.npy', (X_train, X_test, y_train, y_test))\n",
        "# X_train, X_test, y_train, y_test = np.load('./datasv.npy', allow_pickle=True)\n",
        "\n",
        "# # Generate scatter plot for training data \n",
        "# plt.scatter(X_train[:,0], X_train[:,1])\n",
        "# plt.title('Linearly separable data')\n",
        "# plt.xlabel('X1')\n",
        "# plt.ylabel('X2')\n",
        "# plt.show()\n",
        "\n",
        "# # Initialize SVM classifier\n",
        "# clf = svm.SVC(kernel='linear')\n",
        "\n",
        "# # Fit data\n",
        "# clf = clf.fit(X_train, y_train) \n",
        "support_vectors"
      ],
      "metadata": {
        "id": "erx7PGSrqlNG",
        "colab": {
          "base_uri": "https://localhost:8080/"
        },
        "outputId": "7f97d2ed-f7ab-4ad3-d82b-21bfa097c3c3"
      },
      "execution_count": 20,
      "outputs": [
        {
          "output_type": "execute_result",
          "data": {
            "text/plain": [
              "array([[ 4.28244265, -0.2122971 ],\n",
              "       [ 2.48917284,  2.58265916],\n",
              "       [ 0.89257379,  4.5125702 ],\n",
              "       [ 0.92697288,  3.74678981],\n",
              "       [ 1.54904551,  2.83292604],\n",
              "       [ 3.37546987,  1.55706074],\n",
              "       [ 2.43248163,  2.20929882],\n",
              "       [ 2.00657926,  2.33129055],\n",
              "       [ 3.2832682 ,  1.98879833],\n",
              "       [ 2.75474282,  3.16822345],\n",
              "       [ 2.34891335,  3.64397624],\n",
              "       [ 1.25054852,  3.38867139],\n",
              "       [ 2.058814  ,  3.09340517],\n",
              "       [ 1.92631843,  2.95886696],\n",
              "       [ 0.49640532,  4.615165  ],\n",
              "       [ 4.66577486,  0.63307496],\n",
              "       [ 3.61706654,  1.53718964]])"
            ]
          },
          "metadata": {},
          "execution_count": 20
        }
      ]
    },
    {
      "cell_type": "code",
      "source": [
        "import matplotlib.pyplot as plt\n",
        "# Get support vectors themselves\n",
        "support_vectors = clf.support_vectors_\n",
        "\n",
        "# Visualize support vectors\n",
        "plt.scatter(X_train[:,1], X_train[:,5])\n",
        "plt.scatter(support_vectors[:,0], support_vectors[:,1], color='red')\n",
        "plt.title('Linearly separable data with support vectors')\n",
        "plt.xlabel('X1')\n",
        "plt.ylabel('X2')\n",
        "plt.show()"
      ],
      "metadata": {
        "id": "i2OpdHkqqY2y"
      },
      "execution_count": 28,
      "outputs": []
    },
    {
      "cell_type": "markdown",
      "source": [
        "#Logistic regression"
      ],
      "metadata": {
        "id": "l2isWjv_r-mN"
      }
    },
    {
      "cell_type": "code",
      "source": [
        "def logistic_regression(X_train_scaled,  y_train, X_valid_scaled, y_valid, X_trainval_scaled,  y_trainval, X_test_scaled, y_test):\n",
        "    best_score = 0\n",
        "\n",
        "    for C in [0.001, 0.01, 0.1, 1, 10, 100]:\n",
        "      for solver in [\"newton-cg\", \"sag\", \"saga\", \"lbfgs\"]:\n",
        "          logreg = LogisticRegression(max_iter=5000, multi_class='multinomial', C=C,\n",
        "                                      solver=solver, penalty='l2')\n",
        "          logreg.fit(X_train_scaled,  y_train)\n",
        "          score = logreg.score(X_valid_scaled, y_valid)\n",
        "\n",
        "          if score > best_score:\n",
        "            best_score = score\n",
        "            best_parameters = {\"C\":C,\n",
        "                              'solver': solver}\n",
        "\n",
        "    logreg = LogisticRegression(**best_parameters)\n",
        "    clf = logreg.fit(X_trainval_scaled,  y_trainval)\n",
        "    train_score = logreg.score(X_trainval_scaled,  y_trainval)\n",
        "    test_score = logreg.score(X_test_scaled, y_test)\n",
        "\n",
        "    return cleanup_results(best_score, best_parameters, train_score, test_score)\n",
        "\n",
        "results = logistic_regression(X_train_scaled,  y_train, X_valid_scaled, y_valid, X_trainval_scaled,  y_trainval, X_test_scaled, y_test)\n",
        "results"
      ],
      "metadata": {
        "colab": {
          "base_uri": "https://localhost:8080/"
        },
        "id": "jqvMevd3h9Ht",
        "outputId": "221fc2d1-8188-4c3b-b658-717ba0b2cace"
      },
      "execution_count": 29,
      "outputs": [
        {
          "output_type": "stream",
          "name": "stderr",
          "text": [
            "/usr/local/lib/python3.7/dist-packages/sklearn/linear_model/_sag.py:354: ConvergenceWarning: The max_iter was reached which means the coef_ did not converge\n",
            "  ConvergenceWarning,\n",
            "/usr/local/lib/python3.7/dist-packages/sklearn/linear_model/_sag.py:354: ConvergenceWarning: The max_iter was reached which means the coef_ did not converge\n",
            "  ConvergenceWarning,\n",
            "/usr/local/lib/python3.7/dist-packages/sklearn/linear_model/_sag.py:354: ConvergenceWarning: The max_iter was reached which means the coef_ did not converge\n",
            "  ConvergenceWarning,\n"
          ]
        },
        {
          "output_type": "execute_result",
          "data": {
            "text/plain": [
              "{'accuracy': ['0.56'],\n",
              " 'best_parameters': {'C': 100, 'solver': 'sag'},\n",
              " 'test_score': ['0.57'],\n",
              " 'train_score': ['0.57']}"
            ]
          },
          "metadata": {},
          "execution_count": 29
        }
      ]
    },
    {
      "cell_type": "markdown",
      "source": [
        "#RandomForestClassifier"
      ],
      "metadata": {
        "id": "3JSYKhbjqe9d"
      }
    },
    {
      "cell_type": "code",
      "source": [
        "def random_forest_classifier(X_train_scaled,  y_train, X_valid_scaled, y_valid, X_trainval_scaled,  y_trainval, X_test_scaled, y_test):\n",
        "    best_score = 0\n",
        "\n",
        "    for criterion in ['gini', 'entropy']:\n",
        "      for max_depth in range(1,11):\n",
        "        for max_features in [\"auto\", \"sqrt\", \"log2\"]:\n",
        "          rf = RandomForestClassifier(criterion=criterion, max_features=max_features, max_depth=max_depth)\n",
        "          rf.fit(X_train_scaled,  y_train)\n",
        "          score = rf.score(X_valid_scaled, y_valid)\n",
        "\n",
        "          if score > best_score:\n",
        "            best_score = score\n",
        "            best_parameters = {\"max_features\":max_features,\n",
        "                              'max_depth': max_depth,\n",
        "                              'criterion': criterion}\n",
        "\n",
        "    rf = RandomForestClassifier(**best_parameters)\n",
        "    clf = rf.fit(X_trainval_scaled,  y_trainval)\n",
        "    train_score = rf.score(X_trainval_scaled,  y_trainval)\n",
        "    test_score = rf.score(X_test_scaled, y_test)\n",
        "\n",
        "    return cleanup_results(best_score, best_parameters, train_score, test_score)\n",
        "\n",
        "results = random_forest_classifier(X_train_scaled,  y_train, X_valid_scaled, y_valid, X_trainval_scaled,  y_trainval, X_test_scaled, y_test)\n",
        "results"
      ],
      "metadata": {
        "colab": {
          "base_uri": "https://localhost:8080/"
        },
        "id": "Fwsso5q6iBYa",
        "outputId": "1f0e05d1-812c-4397-c828-343cc17453c4"
      },
      "execution_count": 30,
      "outputs": [
        {
          "output_type": "execute_result",
          "data": {
            "text/plain": [
              "{'accuracy': ['0.78'],\n",
              " 'best_parameters': {'criterion': 'gini',\n",
              "  'max_depth': 10,\n",
              "  'max_features': 'sqrt'},\n",
              " 'test_score': ['0.78'],\n",
              " 'train_score': ['0.81']}"
            ]
          },
          "metadata": {},
          "execution_count": 30
        }
      ]
    },
    {
      "cell_type": "code",
      "source": [
        "test ={\n",
        " 'Age': [40.0] ,\n",
        " 'destinationCode': ['SE'],\n",
        " 'durationOfStay': [7] ,\n",
        " 'gender': ['F'] ,\n",
        " 'kids': [0.0] }\n",
        "\n",
        "test = get_dummies(pd.DataFrame(test), ['destinationCode', 'gender'] )\n",
        "\n",
        "empty_df = get_dummies(data_proc.drop(\"AcomType\", axis=1)).reset_index().drop([x for x in range(len(data_proc))], axis=0)\n",
        "\n",
        "new_test = pd.concat([empty_df, test], sort=False).fillna(0).drop(\"Id\", axis=1)\n",
        "\n",
        "test = list(new_test.iloc[0])\n",
        "\n",
        "\n",
        "\"Data to dummies\", test"
      ],
      "metadata": {
        "id": "5Rd1iwIOoSRz",
        "colab": {
          "base_uri": "https://localhost:8080/"
        },
        "outputId": "c5ba603e-448a-4d65-90bb-7500b22d83eb"
      },
      "execution_count": 31,
      "outputs": [
        {
          "output_type": "execute_result",
          "data": {
            "text/plain": [
              "('Data to dummies',\n",
              " [7.0, 40.0, 0.0, 1.0, 0.0, 0.0, 0.0, 0.0, 0.0, 0.0, 0.0, 1.0, 0.0])"
            ]
          },
          "metadata": {},
          "execution_count": 31
        }
      ]
    },
    {
      "cell_type": "code",
      "source": [
        "def get_recommendation(clf, profiles):\n",
        "    np_profiles = np.array(profiles) \n",
        "    print(np_profiles)\n",
        "\n",
        "    test ={\n",
        "    'durationOfStay': np_profiles[:, 0],\n",
        "    'gender': np_profiles[:, 1], \n",
        "    'Age': np_profiles[:, 2],\n",
        "    'kids': np_profiles[:, 3], \n",
        "    'destinationCode': np_profiles[:, 4]\n",
        "    }\n",
        "\n",
        "    test = get_dummies(pd.DataFrame(test), columns =['destinationCode', 'gender'] )\n",
        "\n",
        "    empty_df = get_dummies(data_proc.drop(\"AcomType\", axis=1)).reset_index().drop([x for x in range(len(data_proc))], axis=0)\n",
        "\n",
        "    new_test = pd.concat([empty_df, test], sort=False).fillna(0).drop(\"Id\", axis=1)\n",
        "\n",
        "    test = list(new_test.values)\n",
        "        \n",
        "    return clf.predict(test)\n",
        "\n",
        "results = get_recommendation(clf, [[2, 'F', 38.0, 0.0, 'BE'], \n",
        " [6, 'M', 37.0, 0.0, 'ES'], \n",
        " [1, 'M', 37.0, 1.0, 'ES']])\n",
        "\n",
        "results \n",
        "\n",
        "\n",
        "#results = get_recommendation(clf, test_data.values  ) #[[40, 'SE', 7, 'F', 0], [22, 'SE', 7, 'M', 0] ] )"
      ],
      "metadata": {
        "id": "Oq9mTdJ2WCXm",
        "colab": {
          "base_uri": "https://localhost:8080/"
        },
        "outputId": "d91e3df2-02aa-4f0e-b6c1-392844f3c628"
      },
      "execution_count": 34,
      "outputs": [
        {
          "output_type": "stream",
          "name": "stdout",
          "text": [
            "[['2' 'F' '38.0' '0.0' 'BE']\n",
            " ['6' 'M' '37.0' '0.0' 'ES']\n",
            " ['1' 'M' '37.0' '1.0' 'ES']]\n"
          ]
        },
        {
          "output_type": "execute_result",
          "data": {
            "text/plain": [
              "array(['Apt', 'Apt', 'Apt'], dtype=object)"
            ]
          },
          "metadata": {},
          "execution_count": 34
        }
      ]
    },
    {
      "cell_type": "code",
      "source": [
        "#test_data.values"
      ],
      "metadata": {
        "id": "RReifar06E6T"
      },
      "execution_count": null,
      "outputs": []
    },
    {
      "cell_type": "code",
      "source": [
        "# from sklearn.pipeline import Pipeline\n",
        "# from sklearn.preprocessing import StandardScaler\n",
        "# pipe = Pipeline([('scaler', StandardScaler()), ('svc', SVC())])\n",
        "# pipe.fit(X_train, y_train)\n",
        "# pipe.score(X_test, y_test)"
      ],
      "metadata": {
        "id": "LZk5UXIHphR8"
      },
      "execution_count": null,
      "outputs": []
    }
  ]
}